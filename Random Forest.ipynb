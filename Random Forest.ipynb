{
 "cells": [
  {
   "cell_type": "code",
   "execution_count": 2,
   "metadata": {
    "scrolled": true
   },
   "outputs": [],
   "source": [
    "#Load libraries\n",
    "import scipy.io\n",
    "from sklearn.ensemble.forest import RandomForestClassifier\n",
    "from sklearn.metrics import confusion_matrix\n",
    "from sklearn.model_selection import KFold\n",
    "import pandas as pd\n",
    "import numpy as np"
   ]
  },
  {
   "cell_type": "code",
   "execution_count": 4,
   "metadata": {
    "scrolled": false
   },
   "outputs": [
    {
     "data": {
      "text/html": [
       "<div>\n",
       "<style scoped>\n",
       "    .dataframe tbody tr th:only-of-type {\n",
       "        vertical-align: middle;\n",
       "    }\n",
       "\n",
       "    .dataframe tbody tr th {\n",
       "        vertical-align: top;\n",
       "    }\n",
       "\n",
       "    .dataframe thead th {\n",
       "        text-align: right;\n",
       "    }\n",
       "</style>\n",
       "<table border=\"1\" class=\"dataframe\">\n",
       "  <thead>\n",
       "    <tr style=\"text-align: right;\">\n",
       "      <th></th>\n",
       "      <th>epoch</th>\n",
       "      <th>stage</th>\n",
       "      <th>delta</th>\n",
       "      <th>theta</th>\n",
       "      <th>alpha</th>\n",
       "      <th>beta1</th>\n",
       "      <th>beta2</th>\n",
       "      <th>spindle</th>\n",
       "      <th>K_complex</th>\n",
       "    </tr>\n",
       "  </thead>\n",
       "  <tbody>\n",
       "    <tr>\n",
       "      <th>0</th>\n",
       "      <td>2397001.0</td>\n",
       "      <td>0.0</td>\n",
       "      <td>-267998884.0</td>\n",
       "      <td>-241505484.0</td>\n",
       "      <td>-336368820.0</td>\n",
       "      <td>-877711454.0</td>\n",
       "      <td>-1.553141e+09</td>\n",
       "      <td>-79331910.0</td>\n",
       "      <td>-39087854.0</td>\n",
       "    </tr>\n",
       "    <tr>\n",
       "      <th>1</th>\n",
       "      <td>2400001.0</td>\n",
       "      <td>0.0</td>\n",
       "      <td>-271471318.0</td>\n",
       "      <td>-247198842.0</td>\n",
       "      <td>-327541732.0</td>\n",
       "      <td>-842910362.0</td>\n",
       "      <td>-1.553529e+09</td>\n",
       "      <td>-76485286.0</td>\n",
       "      <td>-39293328.0</td>\n",
       "    </tr>\n",
       "    <tr>\n",
       "      <th>2</th>\n",
       "      <td>2403001.0</td>\n",
       "      <td>0.0</td>\n",
       "      <td>-273326486.0</td>\n",
       "      <td>-249414778.0</td>\n",
       "      <td>-330582162.0</td>\n",
       "      <td>-848385458.0</td>\n",
       "      <td>-1.564378e+09</td>\n",
       "      <td>-75834742.0</td>\n",
       "      <td>-39265254.0</td>\n",
       "    </tr>\n",
       "    <tr>\n",
       "      <th>3</th>\n",
       "      <td>2406001.0</td>\n",
       "      <td>0.0</td>\n",
       "      <td>-274259644.0</td>\n",
       "      <td>-243100592.0</td>\n",
       "      <td>-332130238.0</td>\n",
       "      <td>-868690592.0</td>\n",
       "      <td>-1.547108e+09</td>\n",
       "      <td>-77460044.0</td>\n",
       "      <td>-39589544.0</td>\n",
       "    </tr>\n",
       "    <tr>\n",
       "      <th>4</th>\n",
       "      <td>2409001.0</td>\n",
       "      <td>0.0</td>\n",
       "      <td>-274359650.0</td>\n",
       "      <td>-243435814.0</td>\n",
       "      <td>-327870770.0</td>\n",
       "      <td>-858800212.0</td>\n",
       "      <td>-1.555334e+09</td>\n",
       "      <td>-76668520.0</td>\n",
       "      <td>-39587594.0</td>\n",
       "    </tr>\n",
       "  </tbody>\n",
       "</table>\n",
       "</div>"
      ],
      "text/plain": [
       "       epoch  stage        delta        theta        alpha        beta1  \\\n",
       "0  2397001.0    0.0 -267998884.0 -241505484.0 -336368820.0 -877711454.0   \n",
       "1  2400001.0    0.0 -271471318.0 -247198842.0 -327541732.0 -842910362.0   \n",
       "2  2403001.0    0.0 -273326486.0 -249414778.0 -330582162.0 -848385458.0   \n",
       "3  2406001.0    0.0 -274259644.0 -243100592.0 -332130238.0 -868690592.0   \n",
       "4  2409001.0    0.0 -274359650.0 -243435814.0 -327870770.0 -858800212.0   \n",
       "\n",
       "          beta2     spindle   K_complex  \n",
       "0 -1.553141e+09 -79331910.0 -39087854.0  \n",
       "1 -1.553529e+09 -76485286.0 -39293328.0  \n",
       "2 -1.564378e+09 -75834742.0 -39265254.0  \n",
       "3 -1.547108e+09 -77460044.0 -39589544.0  \n",
       "4 -1.555334e+09 -76668520.0 -39587594.0  "
      ]
     },
     "execution_count": 4,
     "metadata": {},
     "output_type": "execute_result"
    }
   ],
   "source": [
    "hyp01 = scipy.io.loadmat('hyp1.mat')\n",
    "hyp02 = scipy.io.loadmat('hyp2.mat')\n",
    "hyp03 = scipy.io.loadmat('hyp3.mat')\n",
    "hyp04 = scipy.io.loadmat('hyp4.mat')\n",
    "hyp05 = scipy.io.loadmat('hyp5.mat')\n",
    "hyp06 = scipy.io.loadmat('hyp6.mat')\n",
    "hyp07 = scipy.io.loadmat('hyp7.mat')\n",
    "hyp08 = scipy.io.loadmat('hyp8.mat')\n",
    "hyp09 = scipy.io.loadmat('hyp9.mat')\n",
    "hyp10 = scipy.io.loadmat('hyp10.mat')\n",
    "feat = scipy.io.loadmat('feat')\n",
    "hyp01 = hyp01['hyp1']\n",
    "hyp02 = hyp02['hyp2']\n",
    "hyp03 = hyp03['hyp3']\n",
    "hyp04 = hyp04['hyp4']\n",
    "hyp05 = hyp05['hyp5']\n",
    "hyp06 = hyp06['hyp6']\n",
    "hyp07 = hyp07['hyp7']\n",
    "hyp08 = hyp08['hyp8']\n",
    "hyp09 = hyp09['hyp9']\n",
    "hyp10 = hyp10['hyp10']\n",
    "feat = feat['featurestrim']\n",
    "hypt = np.concatenate((hyp01, hyp02, hyp03, hyp04, hyp05, hyp06, hyp07, hyp08, hyp09, hyp10), axis = 0)\n",
    "hypt.shape\n",
    "\n",
    "mat = np.concatenate((hypt, feat), axis = 1)\n",
    "df = pd.DataFrame(mat, columns = ['epoch', 'stage', 'delta', 'theta', 'alpha', 'beta1', 'beta2', 'spindle', 'K_complex'])\n",
    "df.head()"
   ]
  },
  {
   "cell_type": "code",
   "execution_count": 35,
   "metadata": {},
   "outputs": [
    {
     "ename": "ValueError",
     "evalue": "all the input array dimensions except for the concatenation axis must match exactly",
     "output_type": "error",
     "traceback": [
      "\u001b[0;31m---------------------------------------------------------------------------\u001b[0m",
      "\u001b[0;31mValueError\u001b[0m                                Traceback (most recent call last)",
      "\u001b[0;32m<ipython-input-35-8dde31fe46ea>\u001b[0m in \u001b[0;36m<module>\u001b[0;34m\u001b[0m\n\u001b[1;32m     36\u001b[0m \u001b[0;34m\u001b[0m\u001b[0m\n\u001b[1;32m     37\u001b[0m \u001b[0;34m\u001b[0m\u001b[0m\n\u001b[0;32m---> 38\u001b[0;31m \u001b[0mmat\u001b[0m \u001b[0;34m=\u001b[0m \u001b[0mnp\u001b[0m\u001b[0;34m.\u001b[0m\u001b[0mconcatenate\u001b[0m\u001b[0;34m(\u001b[0m\u001b[0;34m(\u001b[0m\u001b[0mhypt\u001b[0m\u001b[0;34m,\u001b[0m \u001b[0mfeat\u001b[0m\u001b[0;34m)\u001b[0m\u001b[0;34m,\u001b[0m \u001b[0maxis\u001b[0m \u001b[0;34m=\u001b[0m \u001b[0;36m1\u001b[0m\u001b[0;34m)\u001b[0m\u001b[0;34m\u001b[0m\u001b[0;34m\u001b[0m\u001b[0m\n\u001b[0m\u001b[1;32m     39\u001b[0m \u001b[0mdf\u001b[0m \u001b[0;34m=\u001b[0m \u001b[0mpd\u001b[0m\u001b[0;34m.\u001b[0m\u001b[0mDataFrame\u001b[0m\u001b[0;34m(\u001b[0m\u001b[0mmat\u001b[0m\u001b[0;34m,\u001b[0m \u001b[0mcolumns\u001b[0m \u001b[0;34m=\u001b[0m \u001b[0;34m[\u001b[0m\u001b[0;34m'epoch'\u001b[0m\u001b[0;34m,\u001b[0m \u001b[0;34m'stage'\u001b[0m\u001b[0;34m,\u001b[0m \u001b[0;34m'delta'\u001b[0m\u001b[0;34m,\u001b[0m \u001b[0;34m'theta'\u001b[0m\u001b[0;34m,\u001b[0m \u001b[0;34m'alpha'\u001b[0m\u001b[0;34m,\u001b[0m \u001b[0;34m'beta1'\u001b[0m\u001b[0;34m,\u001b[0m \u001b[0;34m'beta2'\u001b[0m\u001b[0;34m,\u001b[0m \u001b[0;34m'spindle'\u001b[0m\u001b[0;34m,\u001b[0m \u001b[0;34m'K_complex'\u001b[0m\u001b[0;34m]\u001b[0m\u001b[0;34m)\u001b[0m\u001b[0;34m\u001b[0m\u001b[0;34m\u001b[0m\u001b[0m\n\u001b[1;32m     40\u001b[0m \u001b[0mdf\u001b[0m\u001b[0;34m.\u001b[0m\u001b[0mhead\u001b[0m\u001b[0;34m(\u001b[0m\u001b[0;34m)\u001b[0m\u001b[0;34m\u001b[0m\u001b[0;34m\u001b[0m\u001b[0m\n",
      "\u001b[0;31mValueError\u001b[0m: all the input array dimensions except for the concatenation axis must match exactly"
     ]
    }
   ],
   "source": [
    "#Load Labels\n",
    "hyp01 = scipy.io.loadmat('SC4001E0-PSG_hyp')\n",
    "hyp11 = scipy.io.loadmat('SC4011E0-PSG_hyp')\n",
    "hyp12 = scipy.io.loadmat('SC4012E0-PSG_hyp')\n",
    "hyp21 = scipy.io.loadmat('SC4021E0-PSG_hyp')\n",
    "hyp22 = scipy.io.loadmat('SC4022E0-PSG_hyp')\n",
    "hyp31 = scipy.io.loadmat('SC4031E0-PSG_hyp')\n",
    "hyp32 = scipy.io.loadmat('SC4032E0-PSG_hyp')\n",
    "hyp41 = scipy.io.loadmat('SC4041E0-PSG_hyp')\n",
    "hyp42 = scipy.io.loadmat('SC4042E0-PSG_hyp')\n",
    "hyp51 = scipy.io.loadmat('SC4051E0-PSG_hyp')\n",
    "\n",
    "feat = scipy.io.loadmat('feat')\n",
    "hyp01 = hyp01['hypnogram'][599:1633]\n",
    "hyp11 = hyp11['hypnogram'][599:1633]\n",
    "hyp12 = hyp12['hypnogram'][599:1633]\n",
    "hyp21 = hyp21['hypnogram'][599:1633]\n",
    "hyp22 = hyp22['hypnogram'][599:1633]\n",
    "hyp31 = hyp31['hypnogram'][599:1633]\n",
    "hyp32 = hyp32['hypnogram'][599:1633]\n",
    "hyp41 = hyp41['hypnogram'][599:1633]\n",
    "hyp42 = hyp42['hypnogram'][599:1633]\n",
    "hyp51 = hyp51['hypnogram'][599:1633]\n",
    "feat = feat['featurestrim']\n",
    "#feat = feat[]\n",
    "hypt = np.concatenate((hyp01, hyp11, hyp12, hyp21, hyp22, hyp31, hyp32, hyp41, hyp42, hyp51), axis = 0)\n",
    "m, n = hypt.shape\n",
    "\n",
    "#Changing labels to New AASM:\n",
    "for i in range(m):\n",
    "    if hypt[i,1]==4:\n",
    "        hypt[i,1]=3\n",
    "    elif hypt[i,1]==6:\n",
    "        hypt[i,1]=0\n",
    "\n",
    "\n",
    "\n",
    "mat = np.concatenate((hypt, feat), axis = 1)\n",
    "df = pd.DataFrame(mat, columns = ['epoch', 'stage', 'delta', 'theta', 'alpha', 'beta1', 'beta2', 'spindle', 'K_complex'])\n",
    "df.head()"
   ]
  },
  {
   "cell_type": "code",
   "execution_count": 31,
   "metadata": {},
   "outputs": [],
   "source": [
    "def get_score(rf, X_train, X_test, y_train, y_test):\n",
    "    rf.fit(X_train, y_train)\n",
    "    return rf.score(X_test, y_test)"
   ]
  },
  {
   "cell_type": "code",
   "execution_count": 40,
   "metadata": {
    "scrolled": true
   },
   "outputs": [],
   "source": [
    "features = df.columns[2:9]\n",
    "kf = KFold(n_splits = 10, shuffle=True)\n",
    "score = []\n",
    "for train_index, test_index in kf.split(df[features], df['stage']):\n",
    "    x_train, x_test = feat[train_index], feat[test_index]\n",
    "    y_train, y_test = df['stage'][train_index], df['stage'][test_index]\n",
    "    score.append(get_score(RandomForestClassifier(n_estimators=35), x_train, x_test, y_train, y_test))\n",
    "    "
   ]
  },
  {
   "cell_type": "code",
   "execution_count": 39,
   "metadata": {},
   "outputs": [
    {
     "data": {
      "text/plain": [
       "[0.5227817745803357,\n",
       " 0.5359712230215827,\n",
       " 0.5155875299760192,\n",
       " 0.5491606714628298,\n",
       " 0.5311750599520384,\n",
       " 0.5227817745803357,\n",
       " 0.5215827338129496,\n",
       " 0.5611510791366906,\n",
       " 0.5347721822541966,\n",
       " 0.5227817745803357]"
      ]
     },
     "execution_count": 39,
     "metadata": {},
     "output_type": "execute_result"
    }
   ],
   "source": [
    "score"
   ]
  },
  {
   "cell_type": "code",
   "execution_count": 28,
   "metadata": {
    "scrolled": true
   },
   "outputs": [
    {
     "data": {
      "text/html": [
       "<div>\n",
       "<style scoped>\n",
       "    .dataframe tbody tr th:only-of-type {\n",
       "        vertical-align: middle;\n",
       "    }\n",
       "\n",
       "    .dataframe tbody tr th {\n",
       "        vertical-align: top;\n",
       "    }\n",
       "\n",
       "    .dataframe thead th {\n",
       "        text-align: right;\n",
       "    }\n",
       "</style>\n",
       "<table border=\"1\" class=\"dataframe\">\n",
       "  <thead>\n",
       "    <tr style=\"text-align: right;\">\n",
       "      <th></th>\n",
       "      <th>epoch</th>\n",
       "      <th>stage</th>\n",
       "      <th>delta</th>\n",
       "      <th>theta</th>\n",
       "      <th>alpha</th>\n",
       "      <th>beta1</th>\n",
       "      <th>beta2</th>\n",
       "      <th>spindle</th>\n",
       "      <th>K_complex</th>\n",
       "      <th>training?</th>\n",
       "    </tr>\n",
       "  </thead>\n",
       "  <tbody>\n",
       "    <tr>\n",
       "      <th>0</th>\n",
       "      <td>2397001.0</td>\n",
       "      <td>0.0</td>\n",
       "      <td>-267998884.0</td>\n",
       "      <td>-241505484.0</td>\n",
       "      <td>-336368820.0</td>\n",
       "      <td>-877711454.0</td>\n",
       "      <td>-1.553141e+09</td>\n",
       "      <td>-79331910.0</td>\n",
       "      <td>-39087854.0</td>\n",
       "      <td>False</td>\n",
       "    </tr>\n",
       "    <tr>\n",
       "      <th>1</th>\n",
       "      <td>2400001.0</td>\n",
       "      <td>0.0</td>\n",
       "      <td>-271471318.0</td>\n",
       "      <td>-247198842.0</td>\n",
       "      <td>-327541732.0</td>\n",
       "      <td>-842910362.0</td>\n",
       "      <td>-1.553529e+09</td>\n",
       "      <td>-76485286.0</td>\n",
       "      <td>-39293328.0</td>\n",
       "      <td>True</td>\n",
       "    </tr>\n",
       "    <tr>\n",
       "      <th>2</th>\n",
       "      <td>2403001.0</td>\n",
       "      <td>0.0</td>\n",
       "      <td>-273326486.0</td>\n",
       "      <td>-249414778.0</td>\n",
       "      <td>-330582162.0</td>\n",
       "      <td>-848385458.0</td>\n",
       "      <td>-1.564378e+09</td>\n",
       "      <td>-75834742.0</td>\n",
       "      <td>-39265254.0</td>\n",
       "      <td>True</td>\n",
       "    </tr>\n",
       "    <tr>\n",
       "      <th>3</th>\n",
       "      <td>2406001.0</td>\n",
       "      <td>0.0</td>\n",
       "      <td>-274259644.0</td>\n",
       "      <td>-243100592.0</td>\n",
       "      <td>-332130238.0</td>\n",
       "      <td>-868690592.0</td>\n",
       "      <td>-1.547108e+09</td>\n",
       "      <td>-77460044.0</td>\n",
       "      <td>-39589544.0</td>\n",
       "      <td>True</td>\n",
       "    </tr>\n",
       "    <tr>\n",
       "      <th>4</th>\n",
       "      <td>2409001.0</td>\n",
       "      <td>0.0</td>\n",
       "      <td>-274359650.0</td>\n",
       "      <td>-243435814.0</td>\n",
       "      <td>-327870770.0</td>\n",
       "      <td>-858800212.0</td>\n",
       "      <td>-1.555334e+09</td>\n",
       "      <td>-76668520.0</td>\n",
       "      <td>-39587594.0</td>\n",
       "      <td>True</td>\n",
       "    </tr>\n",
       "  </tbody>\n",
       "</table>\n",
       "</div>"
      ],
      "text/plain": [
       "       epoch  stage        delta        theta        alpha        beta1  \\\n",
       "0  2397001.0    0.0 -267998884.0 -241505484.0 -336368820.0 -877711454.0   \n",
       "1  2400001.0    0.0 -271471318.0 -247198842.0 -327541732.0 -842910362.0   \n",
       "2  2403001.0    0.0 -273326486.0 -249414778.0 -330582162.0 -848385458.0   \n",
       "3  2406001.0    0.0 -274259644.0 -243100592.0 -332130238.0 -868690592.0   \n",
       "4  2409001.0    0.0 -274359650.0 -243435814.0 -327870770.0 -858800212.0   \n",
       "\n",
       "          beta2     spindle   K_complex  training?  \n",
       "0 -1.553141e+09 -79331910.0 -39087854.0      False  \n",
       "1 -1.553529e+09 -76485286.0 -39293328.0       True  \n",
       "2 -1.564378e+09 -75834742.0 -39265254.0       True  \n",
       "3 -1.547108e+09 -77460044.0 -39589544.0       True  \n",
       "4 -1.555334e+09 -76668520.0 -39587594.0       True  "
      ]
     },
     "execution_count": 28,
     "metadata": {},
     "output_type": "execute_result"
    }
   ],
   "source": [
    "df['training?'] = np.random.uniform(0,1,(len(df))) <=.9\n",
    "#b = ~a\n",
    "#a.shape\n",
    "df.head()"
   ]
  },
  {
   "cell_type": "code",
   "execution_count": 29,
   "metadata": {},
   "outputs": [
    {
     "data": {
      "text/plain": [
       "((7519, 10), (821, 10))"
      ]
     },
     "execution_count": 29,
     "metadata": {},
     "output_type": "execute_result"
    }
   ],
   "source": [
    "\n",
    "train, test = df[df['training?']==True], df[df['training?']==False]\n",
    "train.shape, test.shape"
   ]
  },
  {
   "cell_type": "code",
   "execution_count": 30,
   "metadata": {},
   "outputs": [
    {
     "data": {
      "text/plain": [
       "Index(['delta', 'theta', 'alpha', 'beta1', 'beta2', 'spindle', 'K_complex'], dtype='object')"
      ]
     },
     "execution_count": 30,
     "metadata": {},
     "output_type": "execute_result"
    }
   ],
   "source": [
    "features = df.columns[2:9]\n",
    "features"
   ]
  },
  {
   "cell_type": "code",
   "execution_count": 31,
   "metadata": {
    "scrolled": false
   },
   "outputs": [
    {
     "data": {
      "text/plain": [
       "RandomForestClassifier(bootstrap=True, class_weight=None, criterion='gini',\n",
       "            max_depth=None, max_features='auto', max_leaf_nodes=None,\n",
       "            min_impurity_decrease=0.0, min_impurity_split=None,\n",
       "            min_samples_leaf=1, min_samples_split=2,\n",
       "            min_weight_fraction_leaf=0.0, n_estimators=30, n_jobs=2,\n",
       "            oob_score=False, random_state=0, verbose=0, warm_start=False)"
      ]
     },
     "execution_count": 31,
     "metadata": {},
     "output_type": "execute_result"
    }
   ],
   "source": [
    "clf = RandomForestClassifier(n_estimators = 30, n_jobs = 2, random_state = 0)\n",
    "clf.fit(train[features], train['stage'])"
   ]
  },
  {
   "cell_type": "code",
   "execution_count": 32,
   "metadata": {},
   "outputs": [],
   "source": [
    "pred = clf.predict(test[features])\n"
   ]
  },
  {
   "cell_type": "code",
   "execution_count": 33,
   "metadata": {
    "scrolled": true
   },
   "outputs": [
    {
     "data": {
      "text/html": [
       "<div>\n",
       "<style scoped>\n",
       "    .dataframe tbody tr th:only-of-type {\n",
       "        vertical-align: middle;\n",
       "    }\n",
       "\n",
       "    .dataframe tbody tr th {\n",
       "        vertical-align: top;\n",
       "    }\n",
       "\n",
       "    .dataframe thead th {\n",
       "        text-align: right;\n",
       "    }\n",
       "</style>\n",
       "<table border=\"1\" class=\"dataframe\">\n",
       "  <thead>\n",
       "    <tr style=\"text-align: right;\">\n",
       "      <th></th>\n",
       "      <th>epoch</th>\n",
       "      <th>stage</th>\n",
       "      <th>delta</th>\n",
       "      <th>theta</th>\n",
       "      <th>alpha</th>\n",
       "      <th>beta1</th>\n",
       "      <th>beta2</th>\n",
       "      <th>spindle</th>\n",
       "      <th>K_complex</th>\n",
       "      <th>training?</th>\n",
       "    </tr>\n",
       "  </thead>\n",
       "  <tbody>\n",
       "    <tr>\n",
       "      <th>0</th>\n",
       "      <td>2397001.0</td>\n",
       "      <td>0.0</td>\n",
       "      <td>-267998884.0</td>\n",
       "      <td>-241505484.0</td>\n",
       "      <td>-336368820.0</td>\n",
       "      <td>-877711454.0</td>\n",
       "      <td>-1.553141e+09</td>\n",
       "      <td>-79331910.0</td>\n",
       "      <td>-39087854.0</td>\n",
       "      <td>False</td>\n",
       "    </tr>\n",
       "    <tr>\n",
       "      <th>20</th>\n",
       "      <td>2457001.0</td>\n",
       "      <td>0.0</td>\n",
       "      <td>-274718110.0</td>\n",
       "      <td>-252649748.0</td>\n",
       "      <td>-346444090.0</td>\n",
       "      <td>-901281116.0</td>\n",
       "      <td>-1.560913e+09</td>\n",
       "      <td>-80515786.0</td>\n",
       "      <td>-39697554.0</td>\n",
       "      <td>False</td>\n",
       "    </tr>\n",
       "    <tr>\n",
       "      <th>27</th>\n",
       "      <td>2478001.0</td>\n",
       "      <td>0.0</td>\n",
       "      <td>-274773866.0</td>\n",
       "      <td>-254197444.0</td>\n",
       "      <td>-351224930.0</td>\n",
       "      <td>-891162158.0</td>\n",
       "      <td>-1.561591e+09</td>\n",
       "      <td>-80644116.0</td>\n",
       "      <td>-39464344.0</td>\n",
       "      <td>False</td>\n",
       "    </tr>\n",
       "    <tr>\n",
       "      <th>29</th>\n",
       "      <td>2484001.0</td>\n",
       "      <td>0.0</td>\n",
       "      <td>-275343974.0</td>\n",
       "      <td>-248471534.0</td>\n",
       "      <td>-332497912.0</td>\n",
       "      <td>-870831752.0</td>\n",
       "      <td>-1.555159e+09</td>\n",
       "      <td>-76440830.0</td>\n",
       "      <td>-39677974.0</td>\n",
       "      <td>False</td>\n",
       "    </tr>\n",
       "    <tr>\n",
       "      <th>38</th>\n",
       "      <td>2511001.0</td>\n",
       "      <td>0.0</td>\n",
       "      <td>-274975548.0</td>\n",
       "      <td>-255065030.0</td>\n",
       "      <td>-351622612.0</td>\n",
       "      <td>-918736548.0</td>\n",
       "      <td>-1.565329e+09</td>\n",
       "      <td>-82890224.0</td>\n",
       "      <td>-39471988.0</td>\n",
       "      <td>False</td>\n",
       "    </tr>\n",
       "  </tbody>\n",
       "</table>\n",
       "</div>"
      ],
      "text/plain": [
       "        epoch  stage        delta        theta        alpha        beta1  \\\n",
       "0   2397001.0    0.0 -267998884.0 -241505484.0 -336368820.0 -877711454.0   \n",
       "20  2457001.0    0.0 -274718110.0 -252649748.0 -346444090.0 -901281116.0   \n",
       "27  2478001.0    0.0 -274773866.0 -254197444.0 -351224930.0 -891162158.0   \n",
       "29  2484001.0    0.0 -275343974.0 -248471534.0 -332497912.0 -870831752.0   \n",
       "38  2511001.0    0.0 -274975548.0 -255065030.0 -351622612.0 -918736548.0   \n",
       "\n",
       "           beta2     spindle   K_complex  training?  \n",
       "0  -1.553141e+09 -79331910.0 -39087854.0      False  \n",
       "20 -1.560913e+09 -80515786.0 -39697554.0      False  \n",
       "27 -1.561591e+09 -80644116.0 -39464344.0      False  \n",
       "29 -1.555159e+09 -76440830.0 -39677974.0      False  \n",
       "38 -1.565329e+09 -82890224.0 -39471988.0      False  "
      ]
     },
     "execution_count": 33,
     "metadata": {},
     "output_type": "execute_result"
    }
   ],
   "source": [
    "test.head()"
   ]
  },
  {
   "cell_type": "code",
   "execution_count": 34,
   "metadata": {},
   "outputs": [
    {
     "data": {
      "text/html": [
       "<div>\n",
       "<style scoped>\n",
       "    .dataframe tbody tr th:only-of-type {\n",
       "        vertical-align: middle;\n",
       "    }\n",
       "\n",
       "    .dataframe tbody tr th {\n",
       "        vertical-align: top;\n",
       "    }\n",
       "\n",
       "    .dataframe thead th {\n",
       "        text-align: right;\n",
       "    }\n",
       "</style>\n",
       "<table border=\"1\" class=\"dataframe\">\n",
       "  <thead>\n",
       "    <tr style=\"text-align: right;\">\n",
       "      <th>Predicted</th>\n",
       "      <th>0.0</th>\n",
       "      <th>1.0</th>\n",
       "      <th>2.0</th>\n",
       "      <th>3.0</th>\n",
       "      <th>5.0</th>\n",
       "    </tr>\n",
       "    <tr>\n",
       "      <th>Actual</th>\n",
       "      <th></th>\n",
       "      <th></th>\n",
       "      <th></th>\n",
       "      <th></th>\n",
       "      <th></th>\n",
       "    </tr>\n",
       "  </thead>\n",
       "  <tbody>\n",
       "    <tr>\n",
       "      <th>0.0</th>\n",
       "      <td>77</td>\n",
       "      <td>1</td>\n",
       "      <td>50</td>\n",
       "      <td>6</td>\n",
       "      <td>4</td>\n",
       "    </tr>\n",
       "    <tr>\n",
       "      <th>1.0</th>\n",
       "      <td>4</td>\n",
       "      <td>5</td>\n",
       "      <td>49</td>\n",
       "      <td>3</td>\n",
       "      <td>5</td>\n",
       "    </tr>\n",
       "    <tr>\n",
       "      <th>2.0</th>\n",
       "      <td>39</td>\n",
       "      <td>8</td>\n",
       "      <td>310</td>\n",
       "      <td>19</td>\n",
       "      <td>24</td>\n",
       "    </tr>\n",
       "    <tr>\n",
       "      <th>3.0</th>\n",
       "      <td>6</td>\n",
       "      <td>1</td>\n",
       "      <td>55</td>\n",
       "      <td>20</td>\n",
       "      <td>4</td>\n",
       "    </tr>\n",
       "    <tr>\n",
       "      <th>5.0</th>\n",
       "      <td>6</td>\n",
       "      <td>4</td>\n",
       "      <td>89</td>\n",
       "      <td>3</td>\n",
       "      <td>29</td>\n",
       "    </tr>\n",
       "  </tbody>\n",
       "</table>\n",
       "</div>"
      ],
      "text/plain": [
       "Predicted  0.0  1.0  2.0  3.0  5.0\n",
       "Actual                            \n",
       "0.0         77    1   50    6    4\n",
       "1.0          4    5   49    3    5\n",
       "2.0         39    8  310   19   24\n",
       "3.0          6    1   55   20    4\n",
       "5.0          6    4   89    3   29"
      ]
     },
     "execution_count": 34,
     "metadata": {},
     "output_type": "execute_result"
    }
   ],
   "source": [
    "pd.crosstab(test['stage'], pred, rownames = ['Actual'], colnames = ['Predicted'])"
   ]
  },
  {
   "cell_type": "code",
   "execution_count": 17,
   "metadata": {},
   "outputs": [
    {
     "ename": "AttributeError",
     "evalue": "'Series' object has no attribute 'reshape'",
     "output_type": "error",
     "traceback": [
      "\u001b[0;31m---------------------------------------------------------------------------\u001b[0m",
      "\u001b[0;31mAttributeError\u001b[0m                            Traceback (most recent call last)",
      "\u001b[0;32m<ipython-input-17-1881035177b8>\u001b[0m in \u001b[0;36m<module>\u001b[0;34m\u001b[0m\n\u001b[0;32m----> 1\u001b[0;31m \u001b[0mclf\u001b[0m\u001b[0;34m.\u001b[0m\u001b[0mscore\u001b[0m\u001b[0;34m(\u001b[0m\u001b[0mtest\u001b[0m\u001b[0;34m[\u001b[0m\u001b[0;34m'stage'\u001b[0m\u001b[0;34m]\u001b[0m\u001b[0;34m.\u001b[0m\u001b[0mreshape\u001b[0m\u001b[0;34m(\u001b[0m\u001b[0;34m-\u001b[0m\u001b[0;36m1\u001b[0m\u001b[0;34m,\u001b[0m \u001b[0;36m1\u001b[0m\u001b[0;34m)\u001b[0m\u001b[0;34m,\u001b[0m \u001b[0mpred\u001b[0m\u001b[0;34m.\u001b[0m\u001b[0mreshape\u001b[0m\u001b[0;34m(\u001b[0m\u001b[0;34m-\u001b[0m\u001b[0;36m1\u001b[0m\u001b[0;34m,\u001b[0m \u001b[0;36m1\u001b[0m\u001b[0;34m)\u001b[0m\u001b[0;34m)\u001b[0m\u001b[0;34m\u001b[0m\u001b[0;34m\u001b[0m\u001b[0m\n\u001b[0m",
      "\u001b[0;32m~/anaconda3/lib/python3.7/site-packages/pandas/core/generic.py\u001b[0m in \u001b[0;36m__getattr__\u001b[0;34m(self, name)\u001b[0m\n\u001b[1;32m   5065\u001b[0m             \u001b[0;32mif\u001b[0m \u001b[0mself\u001b[0m\u001b[0;34m.\u001b[0m\u001b[0m_info_axis\u001b[0m\u001b[0;34m.\u001b[0m\u001b[0m_can_hold_identifiers_and_holds_name\u001b[0m\u001b[0;34m(\u001b[0m\u001b[0mname\u001b[0m\u001b[0;34m)\u001b[0m\u001b[0;34m:\u001b[0m\u001b[0;34m\u001b[0m\u001b[0;34m\u001b[0m\u001b[0m\n\u001b[1;32m   5066\u001b[0m                 \u001b[0;32mreturn\u001b[0m \u001b[0mself\u001b[0m\u001b[0;34m[\u001b[0m\u001b[0mname\u001b[0m\u001b[0;34m]\u001b[0m\u001b[0;34m\u001b[0m\u001b[0;34m\u001b[0m\u001b[0m\n\u001b[0;32m-> 5067\u001b[0;31m             \u001b[0;32mreturn\u001b[0m \u001b[0mobject\u001b[0m\u001b[0;34m.\u001b[0m\u001b[0m__getattribute__\u001b[0m\u001b[0;34m(\u001b[0m\u001b[0mself\u001b[0m\u001b[0;34m,\u001b[0m \u001b[0mname\u001b[0m\u001b[0;34m)\u001b[0m\u001b[0;34m\u001b[0m\u001b[0;34m\u001b[0m\u001b[0m\n\u001b[0m\u001b[1;32m   5068\u001b[0m \u001b[0;34m\u001b[0m\u001b[0m\n\u001b[1;32m   5069\u001b[0m     \u001b[0;32mdef\u001b[0m \u001b[0m__setattr__\u001b[0m\u001b[0;34m(\u001b[0m\u001b[0mself\u001b[0m\u001b[0;34m,\u001b[0m \u001b[0mname\u001b[0m\u001b[0;34m,\u001b[0m \u001b[0mvalue\u001b[0m\u001b[0;34m)\u001b[0m\u001b[0;34m:\u001b[0m\u001b[0;34m\u001b[0m\u001b[0;34m\u001b[0m\u001b[0m\n",
      "\u001b[0;31mAttributeError\u001b[0m: 'Series' object has no attribute 'reshape'"
     ]
    }
   ],
   "source": [
    "clf.score(test['stage'].reshape(-1, 1), pred.reshape(-1, 1))"
   ]
  },
  {
   "cell_type": "code",
   "execution_count": null,
   "metadata": {},
   "outputs": [],
   "source": []
  }
 ],
 "metadata": {
  "kernelspec": {
   "display_name": "Python 3",
   "language": "python",
   "name": "python3"
  },
  "language_info": {
   "codemirror_mode": {
    "name": "ipython",
    "version": 3
   },
   "file_extension": ".py",
   "mimetype": "text/x-python",
   "name": "python",
   "nbconvert_exporter": "python",
   "pygments_lexer": "ipython3",
   "version": "3.7.3"
  }
 },
 "nbformat": 4,
 "nbformat_minor": 2
}
