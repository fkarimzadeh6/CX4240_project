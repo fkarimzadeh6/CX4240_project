{
 "cells": [
  {
   "cell_type": "code",
   "execution_count": 159,
   "metadata": {},
   "outputs": [],
   "source": [
    "#Load libraries\n",
    "import scipy.io\n",
    "from sklearn.ensemble.forest import RandomForestClassifier\n",
    "from sklearn.metrics import confusion_matrix\n",
    "from sklearn.model_selection import KFold\n",
    "from sklearn.model_selection import cross_val_predict\n",
    "from sklearn.model_selection import train_test_split\n",
    "from sklearn.tree import export_graphviz\n",
    "from subprocess import call\n",
    "import matplotlib.pyplot as plt\n",
    "from IPython.display import Image\n",
    "from sklearn.metrics import confusion_matrix\n",
    "import pandas as pd\n",
    "import numpy as np\n",
    "import seaborn as sn"
   ]
  },
  {
   "cell_type": "code",
   "execution_count": 142,
   "metadata": {
    "scrolled": true
   },
   "outputs": [],
   "source": [
    "#Load Labels\n",
    "hyp01 = scipy.io.loadmat('SC4001E0-PSG_hyp')\n",
    "hyp11 = scipy.io.loadmat('SC4011E0-PSG_hyp')\n",
    "hyp12 = scipy.io.loadmat('SC4012E0-PSG_hyp')\n",
    "hyp21 = scipy.io.loadmat('SC4021E0-PSG_hyp')\n",
    "hyp22 = scipy.io.loadmat('SC4022E0-PSG_hyp')\n",
    "hyp31 = scipy.io.loadmat('SC4031E0-PSG_hyp')\n",
    "hyp32 = scipy.io.loadmat('SC4032E0-PSG_hyp')\n",
    "hyp41 = scipy.io.loadmat('SC4041E0-PSG_hyp')\n",
    "hyp42 = scipy.io.loadmat('SC4042E0-PSG_hyp')\n",
    "hyp51 = scipy.io.loadmat('SC4051E0-PSG_hyp')\n",
    "\n",
    "hyp01 = hyp01['hypnogram'][799:1633]\n",
    "hyp11 = hyp11['hypnogram'][799:1633]\n",
    "hyp12 = hyp12['hypnogram'][799:1633]\n",
    "hyp21 = hyp21['hypnogram'][799:1633]\n",
    "hyp22 = hyp22['hypnogram'][799:1633]\n",
    "hyp31 = hyp31['hypnogram'][799:1633]\n",
    "hyp32 = hyp32['hypnogram'][799:1633]\n",
    "hyp41 = hyp41['hypnogram'][799:1633]\n",
    "hyp42 = hyp42['hypnogram'][799:1633]\n",
    "hyp51 = hyp51['hypnogram'][799:1633]\n",
    "\n",
    "hypt = np.concatenate((hyp01, hyp11, hyp12, hyp21, hyp22, hyp31, hyp32, hyp41, hyp42, hyp51), axis = 0)\n",
    "\n",
    "###Load in features\n",
    "data1 = scipy.io.loadmat('features(10)_cwt.mat')['features']\n",
    "\n",
    "data01 = data1[(799):(1633),:]\n",
    "data02 = data1[(799+((1)*1633)):(1633+((1)*1633)),:]\n",
    "data03 = data1[(799+(2)*1633):(1633+(2)*1633),:]\n",
    "data04 = data1[(799+(3)*1633):(1633+(3)*1633),:]\n",
    "data05 = data1[(799+(4)*1633):(1633+(4)*1633),:]\n",
    "data06 = data1[(799+(5)*1633):(1633+(5)*1633),:]\n",
    "data07 = data1[(799+(6)*1633):(1633+(6)*1633),:]\n",
    "data08 = data1[(799+(7)*1633):(1633+(7)*1633),:]\n",
    "data09 = data1[(799+(8)*1633):(1633+(8)*1633),:]\n",
    "data10 = data1[(799+(9)*1633):(1633+(9)*1633),:]\n",
    "\n",
    "data = np.concatenate((data01, data02, data03, data04, data05, data06, data07, data08, data09, data10), axis = 0)\n",
    "\n",
    "\n",
    "\n",
    "#Changing labels to New AASM:\n",
    "m, n = hypt.shape\n",
    "for i in range(m):\n",
    "    if hypt[i,1]==4:\n",
    "        hypt[i,1]=3\n",
    "    elif hypt[i,1]==6:\n",
    "        hypt[i,1]=0"
   ]
  },
  {
   "cell_type": "markdown",
   "metadata": {},
   "source": [
    "# Single Random Forest"
   ]
  },
  {
   "cell_type": "code",
   "execution_count": 143,
   "metadata": {},
   "outputs": [],
   "source": [
    "#Initialize Random Forest and split testing and training sets\n",
    "clf = RandomForestClassifier(n_estimators=40, criterion = 'entropy', oob_score=True)\n",
    "X_train, X_test, Y_train, Y_test = train_test_split(data, hypt[:,1], test_size=0.1)\n",
    "\n",
    "clf.fit(X_train, Y_train)\n",
    "pred = clf.predict(X_test)"
   ]
  },
  {
   "cell_type": "code",
   "execution_count": 177,
   "metadata": {
    "scrolled": true
   },
   "outputs": [
    {
     "data": {
      "text/html": [
       "<div>\n",
       "<style scoped>\n",
       "    .dataframe tbody tr th:only-of-type {\n",
       "        vertical-align: middle;\n",
       "    }\n",
       "\n",
       "    .dataframe tbody tr th {\n",
       "        vertical-align: top;\n",
       "    }\n",
       "\n",
       "    .dataframe thead th {\n",
       "        text-align: right;\n",
       "    }\n",
       "</style>\n",
       "<table border=\"1\" class=\"dataframe\">\n",
       "  <thead>\n",
       "    <tr style=\"text-align: right;\">\n",
       "      <th>Predicted</th>\n",
       "      <th>0</th>\n",
       "      <th>1</th>\n",
       "      <th>2</th>\n",
       "      <th>3</th>\n",
       "      <th>5</th>\n",
       "    </tr>\n",
       "    <tr>\n",
       "      <th>Actual</th>\n",
       "      <th></th>\n",
       "      <th></th>\n",
       "      <th></th>\n",
       "      <th></th>\n",
       "      <th></th>\n",
       "    </tr>\n",
       "  </thead>\n",
       "  <tbody>\n",
       "    <tr>\n",
       "      <th>0</th>\n",
       "      <td>132</td>\n",
       "      <td>6</td>\n",
       "      <td>2</td>\n",
       "      <td>0</td>\n",
       "      <td>1</td>\n",
       "    </tr>\n",
       "    <tr>\n",
       "      <th>1</th>\n",
       "      <td>12</td>\n",
       "      <td>17</td>\n",
       "      <td>26</td>\n",
       "      <td>0</td>\n",
       "      <td>14</td>\n",
       "    </tr>\n",
       "    <tr>\n",
       "      <th>2</th>\n",
       "      <td>1</td>\n",
       "      <td>8</td>\n",
       "      <td>368</td>\n",
       "      <td>24</td>\n",
       "      <td>17</td>\n",
       "    </tr>\n",
       "    <tr>\n",
       "      <th>3</th>\n",
       "      <td>0</td>\n",
       "      <td>0</td>\n",
       "      <td>18</td>\n",
       "      <td>70</td>\n",
       "      <td>0</td>\n",
       "    </tr>\n",
       "    <tr>\n",
       "      <th>5</th>\n",
       "      <td>2</td>\n",
       "      <td>3</td>\n",
       "      <td>19</td>\n",
       "      <td>0</td>\n",
       "      <td>94</td>\n",
       "    </tr>\n",
       "  </tbody>\n",
       "</table>\n",
       "</div>"
      ],
      "text/plain": [
       "Predicted    0   1    2   3   5\n",
       "Actual                         \n",
       "0          132   6    2   0   1\n",
       "1           12  17   26   0  14\n",
       "2            1   8  368  24  17\n",
       "3            0   0   18  70   0\n",
       "5            2   3   19   0  94"
      ]
     },
     "execution_count": 177,
     "metadata": {},
     "output_type": "execute_result"
    }
   ],
   "source": [
    "#Create confusion matrix\n",
    "aa = pd.crosstab(Y_test, pred, rownames = ['Actual'], colnames = ['Predicted'])\n",
    "aa"
   ]
  },
  {
   "cell_type": "code",
   "execution_count": 181,
   "metadata": {
    "scrolled": true
   },
   "outputs": [
    {
     "data": {
      "image/png": "[encoded data removed]",
      "text/plain": [
       "<Figure size 432x288 with 2 Axes>"
      ]
     },
     "metadata": {},
     "output_type": "display_data"
    }
   ],
   "source": [
    "sn.set(font_scale=1.5)\n",
    "htmap = sn.heatmap(aa, annot=True,annot_kws={\"size\": 18}, fmt='g', cmap='YlGnBu')\n",
    "htmap.figure.savefig('heatmap.png')"
   ]
  },
  {
   "cell_type": "code",
   "execution_count": 145,
   "metadata": {},
   "outputs": [
    {
     "data": {
      "text/plain": [
       "0.8165467625899281"
      ]
     },
     "execution_count": 145,
     "metadata": {},
     "output_type": "execute_result"
    }
   ],
   "source": [
    "clf.score(X_test, Y_test)"
   ]
  },
  {
   "cell_type": "code",
   "execution_count": 156,
   "metadata": {},
   "outputs": [],
   "source": [
    "#est = clf.estimators_[3]\n",
    "#export_graphviz(est, out_file='tree.dot', \n",
    "#                class_names = ['W', 'N1', 'N2', 'N3', 'REM'],\n",
    "#                rounded = True, proportion = False, \n",
    "#                precision = 2, filled = True)\n",
    "#\n",
    "#call(['dot', '-Tpng', 'tree.dot', '-o', 'tree.png', '-Gdpi=600'])\n",
    "#Image(filename = 'tree.png')"
   ]
  },
  {
   "cell_type": "markdown",
   "metadata": {},
   "source": [
    "# K-Fold"
   ]
  },
  {
   "cell_type": "code",
   "execution_count": 146,
   "metadata": {},
   "outputs": [],
   "source": [
    "#Creates\n",
    "def get_score(rf, x_train, x_test, y_train, y_test):\n",
    "    rf.fit(x_train, y_train)\n",
    "    return rf.score(x_test, y_test)"
   ]
  },
  {
   "cell_type": "code",
   "execution_count": 147,
   "metadata": {
    "scrolled": true
   },
   "outputs": [],
   "source": [
    "#Cross Validation with K = 10\n",
    "kf = KFold(n_splits = 10, shuffle=True)\n",
    "\n",
    "\n",
    "\n",
    "scores = []\n",
    "for train_index, test_index in kf.split(data, hypt[:,1]):\n",
    "    x_train, x_test = data[train_index], data[test_index]\n",
    "    y_train, y_test = hypt[:,1][train_index], hypt[:,1][test_index]\n",
    "    scores.append(get_score(clf, x_train, x_test, y_train, y_test))\n",
    "    "
   ]
  },
  {
   "cell_type": "code",
   "execution_count": 148,
   "metadata": {},
   "outputs": [
    {
     "data": {
      "text/plain": [
       "[0.8081534772182254,\n",
       " 0.8081534772182254,\n",
       " 0.8117505995203836,\n",
       " 0.8213429256594724,\n",
       " 0.8009592326139089,\n",
       " 0.802158273381295,\n",
       " 0.8081534772182254,\n",
       " 0.8177458033573142,\n",
       " 0.7877697841726619,\n",
       " 0.8069544364508393]"
      ]
     },
     "execution_count": 148,
     "metadata": {},
     "output_type": "execute_result"
    }
   ],
   "source": [
    "scores"
   ]
  },
  {
   "cell_type": "code",
   "execution_count": null,
   "metadata": {},
   "outputs": [],
   "source": []
  }
 ],
 "metadata": {
  "kernelspec": {
   "display_name": "Python 3",
   "language": "python",
   "name": "python3"
  },
  "language_info": {
   "codemirror_mode": {
    "name": "ipython",
    "version": 3
   },
   "file_extension": ".py",
   "mimetype": "text/x-python",
   "name": "python",
   "nbconvert_exporter": "python",
   "pygments_lexer": "ipython3",
   "version": "3.7.3"
  }
 },
 "nbformat": 4,
 "nbformat_minor": 2
}
